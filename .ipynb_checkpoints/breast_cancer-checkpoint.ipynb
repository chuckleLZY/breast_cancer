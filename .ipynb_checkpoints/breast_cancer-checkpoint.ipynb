{
 "cells": [
  {
   "cell_type": "markdown",
   "id": "e13b90cd-1bb7-4093-b513-bab4cbe28341",
   "metadata": {},
   "source": [
    "The datasets are in the /home/jupyter/kaggle/input/breast-histopathology-images/IDC_regular_ps50_idx5/\n",
    "The file path is /patient_id/target/patient_id_idx5_x_coord_y_coord_class_target.png\n"
   ]
  },
  {
   "cell_type": "markdown",
   "id": "ee91bb69-81f1-45d0-af25-03d0488c7000",
   "metadata": {},
   "source": [
    "Here is the cell to download the kaggle datasets, please use it once.\n",
    "After downloaded the datasets, you do not need to run this cell again."
   ]
  },
  {
   "cell_type": "code",
   "execution_count": 1,
   "id": "2502643d-e55d-4a2d-a730-55162f870270",
   "metadata": {},
   "outputs": [],
   "source": [
    "# # IMPORTANT: RUN THIS CELL IN ORDER TO IMPORT YOUR KAGGLE DATASETS\n",
    "# # TO THE CORRECT LOCATION (/kaggle/input) IN YOUR NOTEBOOK,\n",
    "# # THEN FEEL FREE TO DELETE CELL.\n",
    "\n",
    "# import os\n",
    "# import sys\n",
    "# from tempfile import NamedTemporaryFile\n",
    "# from urllib.request import urlopen\n",
    "# from urllib.parse import unquote\n",
    "# from urllib.error import HTTPError\n",
    "# from zipfile import ZipFile\n",
    "\n",
    "# CHUNK_SIZE = 40960\n",
    "# DATASET_MAPPING = 'pretrained-pytorch-models:https%3A%2F%2Fstorage.googleapis.com%2Fkaggle-data-sets%2F2847%2F4958%2Fbundle%2Farchive.zip%3FX-Goog-Algorithm%3DGOOG4-RSA-SHA256%26X-Goog-Credential%3Dgcp-kaggle-com%2540kaggle-161607.iam.gserviceaccount.com%252F20231128%252Fauto%252Fstorage%252Fgoog4_request%26X-Goog-Date%3D20231128T004929Z%26X-Goog-Expires%3D259200%26X-Goog-SignedHeaders%3Dhost%26X-Goog-Signature%3Da36eedf3f01b749d97980b283783ae91ab92439928dd288fdfdf111247a50f8c1f09a95ccaa524c9458246b8ef021d7f19ab599de0393f9817009d706e48dab77c4e60e5c5cfd9808bda4e99db40217a137f2e83d479f6f6f3c8166f37ba3916f84ea741986365d805d6e67f03810305bd7d9ddf8c404e9b93130c261d9b2080c3f53d84a2cfd4f7cb50331dc675bef26f6371e00b8eb1ac1f331baeeba3c85b2cad269feb14906a158bfcf986b0cfccbcf03532841f887d7053fef28268dff5ad051c3cfa643031178f4eb3c1ed43a63249a00b1bdc54dd1812729117163cbe821135c982fdcbf17ac404b1610a8c5be414243e2b56154466363fbc22061236,breast-histopathology-images:https%3A%2F%2Fstorage.googleapis.com%2Fkaggle-data-sets%2F7415%2F10564%2Fbundle%2Farchive.zip%3FX-Goog-Algorithm%3DGOOG4-RSA-SHA256%26X-Goog-Credential%3Dgcp-kaggle-com%2540kaggle-161607.iam.gserviceaccount.com%252F20231128%252Fauto%252Fstorage%252Fgoog4_request%26X-Goog-Date%3D20231128T004930Z%26X-Goog-Expires%3D259200%26X-Goog-SignedHeaders%3Dhost%26X-Goog-Signature%3D233b4a09250cfa0c2ecaa3d38007eb1d57f9606002501594298facf8086bcce3bd9c78edb7f9f4d7307a41d0244389eb227d94598646ffa4d0835ff239b2930239767580f6d3f37e0792cdda8a290ebb35339083739dad871f96d993aa75c25e35d17a0ed6700481ab3f94f0322ae5fb91f35351cd6f7f57de3f44bcb14e97f98092c2729ed2f4a3bcc8d0c05bd8e72f82a4b19346615cba41c3d96b2bac1696739fdfc39de97e6c04bc62953edb085942bdded5f22bef490dcbe20a76534aa4b8f07a3c93de52da620c0e0f046f99dd1b3a1524d19fb3bc557d8285ad04ca4b20f35440aa5d0acfe6155b1d330c14bc1c64f7325741263fe1f61754e0f32b91,breastcancermodel:https%3A%2F%2Fstorage.googleapis.com%2Fkaggle-data-sets%2F448448%2F1362309%2Fbundle%2Farchive.zip%3FX-Goog-Algorithm%3DGOOG4-RSA-SHA256%26X-Goog-Credential%3Dgcp-kaggle-com%2540kaggle-161607.iam.gserviceaccount.com%252F20231128%252Fauto%252Fstorage%252Fgoog4_request%26X-Goog-Date%3D20231128T004930Z%26X-Goog-Expires%3D259200%26X-Goog-SignedHeaders%3Dhost%26X-Goog-Signature%3Db0c4f663a3f88eaefcfc9efe98b4032f769e7ac3167f7a5050f4f0e30a56611f9f02268b0167a27c9ef8fe822d0e4f40d2faabf4e48103006b6f6110da667c080c67a611a66842d2431cf4a2edf8524b79d7095ef2da75d9ef34c8b6b273e9bd457226e57273b0a911d568a7d0411a7570c0f85830ab415ae54f75400db577b10c9a31593135e4079979cc65e15f8fe23ef283f4af098af85d514fa3e23c16e1be8b80fad89005c9ea23b0b128298992a95374b0e662760cc5e33475c8cbc075787856e445eb4ddb5ff97563035463b107c30ee014b89e6a8307ae078443f8e92d73669e80e04b2f0d9921381b31912eeaadafd0abf2c0c494bdcd68be42d1d9'\n",
    "# KAGGLE_INPUT_PATH='/home/jupyter/kaggle/input/'\n",
    "# KAGGLE_INPUT_SYMLINK='/home/jupyter/kaggle'\n",
    "\n",
    "# # os.makedirs(KAGGLE_INPUT_PATH, 777)\n",
    "# # os.symlink(KAGGLE_INPUT_PATH, os.path.join('..', 'input'), target_is_directory=True)\n",
    "# # os.makedirs(KAGGLE_INPUT_SYMLINK)\n",
    "# # os.symlink(KAGGLE_INPUT_PATH, os.path.join(KAGGLE_INPUT_SYMLINK, 'input'), target_is_directory=True)\n",
    "\n",
    "# for dataset_mapping in DATASET_MAPPING.split(','):\n",
    "#     directory, download_url_encoded = dataset_mapping.split(':')\n",
    "#     download_url = unquote(download_url_encoded)\n",
    "#     destination_path = os.path.join(KAGGLE_INPUT_PATH, directory)\n",
    "#     try:\n",
    "#         with urlopen(download_url) as zipfileres, NamedTemporaryFile() as tfile:\n",
    "#             total_length = zipfileres.headers['content-length']\n",
    "#             print(f'Downloading {directory}, {total_length} bytes zipped')\n",
    "#             dl = 0\n",
    "#             data = zipfileres.read(CHUNK_SIZE)\n",
    "#             while len(data) > 0:\n",
    "#                 dl += len(data)\n",
    "#                 tfile.write(data)\n",
    "#                 done = int(50 * dl / int(total_length))\n",
    "#                 sys.stdout.write(f\"\\r[{'=' * done}{' ' * (50-done)}] {dl} bytes downloaded\")\n",
    "#                 sys.stdout.flush()\n",
    "#                 data = zipfileres.read(CHUNK_SIZE)\n",
    "#             print(f'\\nUnzipping {directory}')\n",
    "#             with ZipFile(tfile) as zfile:\n",
    "#                 zfile.extractall(destination_path)\n",
    "#     except HTTPError as e:\n",
    "#         print(f'Failed to load (likely expired) {download_url} to path {destination_path}')\n",
    "#         continue\n",
    "#     except OSError as e:\n",
    "#         print(f'Failed to load {download_url} to path {destination_path}')\n",
    "#         continue\n",
    "# print('Dataset import complete.')"
   ]
  },
  {
   "cell_type": "markdown",
   "id": "ba7f92c2-65c2-465d-bf32-5502a1f2addc",
   "metadata": {},
   "source": [
    "# Loading Package and Settings"
   ]
  },
  {
   "cell_type": "code",
   "execution_count": 2,
   "id": "8b41cfa1-feb1-40e8-a62e-9ecaebbb1526",
   "metadata": {
    "tags": []
   },
   "outputs": [],
   "source": [
    "import warnings\n",
    "warnings.filterwarnings(\"ignore\", category=DeprecationWarning)\n",
    "warnings.filterwarnings(\"ignore\", category=UserWarning)\n",
    "warnings.filterwarnings(\"ignore\", category=FutureWarning)\n",
    "\n",
    "import numpy as np \n",
    "import pandas as pd \n",
    "import matplotlib.pyplot as plt\n",
    "%matplotlib inline\n",
    "\n",
    "from PIL import Image\n",
    "\n",
    "import torch\n",
    "import torch.nn as nn\n",
    "import torch.optim as optim\n",
    "import torchvision\n",
    "from torchvision import datasets, models, transforms\n",
    "from torch.utils.data import Dataset, DataLoader\n",
    "import torch.nn.functional as F\n",
    "\n",
    "from sklearn.model_selection import train_test_split\n",
    "\n",
    "from os import listdir\n",
    "\n",
    "import time\n",
    "import copy\n"
   ]
  },
  {
   "cell_type": "markdown",
   "id": "ca0688a2-08de-4497-8058-66a2dc7916dc",
   "metadata": {
    "tags": []
   },
   "source": [
    "# Processing Data\n",
    "Data Structure is patient_id, path, target"
   ]
  },
  {
   "cell_type": "code",
   "execution_count": 3,
   "id": "b53bb6de-71d0-4f54-9d25-c9ba7ca1a7f8",
   "metadata": {
    "tags": []
   },
   "outputs": [
    {
     "data": {
      "text/plain": [
       "279"
      ]
     },
     "execution_count": 3,
     "metadata": {},
     "output_type": "execute_result"
    }
   ],
   "source": [
    "base_path=\"/home/jupyter/kaggle/input/breast-histopathology-images/IDC_regular_ps50_idx5/\"\n",
    "patient = listdir(base_path)\n",
    "len(patient)"
   ]
  },
  {
   "cell_type": "code",
   "execution_count": 4,
   "id": "cdf47d7d-7476-4497-869b-221ca46409de",
   "metadata": {
    "tags": []
   },
   "outputs": [
    {
     "data": {
      "text/plain": [
       "277524"
      ]
     },
     "execution_count": 4,
     "metadata": {},
     "output_type": "execute_result"
    }
   ],
   "source": [
    "total_images = 0\n",
    "for n in range(len(patient)):\n",
    "    patient_id = patient[n]\n",
    "    for c in [0, 1]:\n",
    "        patient_path = base_path + patient_id \n",
    "        class_path = patient_path + \"/\" + str(c) + \"/\"\n",
    "        subfiles = listdir(class_path)\n",
    "        total_images += len(subfiles)\n",
    "total_images"
   ]
  },
  {
   "cell_type": "code",
   "execution_count": 5,
   "id": "bd16cc38-b90f-49d7-8aa8-800e783494a5",
   "metadata": {
    "tags": []
   },
   "outputs": [
    {
     "data": {
      "text/html": [
       "<div>\n",
       "<style scoped>\n",
       "    .dataframe tbody tr th:only-of-type {\n",
       "        vertical-align: middle;\n",
       "    }\n",
       "\n",
       "    .dataframe tbody tr th {\n",
       "        vertical-align: top;\n",
       "    }\n",
       "\n",
       "    .dataframe thead th {\n",
       "        text-align: right;\n",
       "    }\n",
       "</style>\n",
       "<table border=\"1\" class=\"dataframe\">\n",
       "  <thead>\n",
       "    <tr style=\"text-align: right;\">\n",
       "      <th></th>\n",
       "      <th>patient_id</th>\n",
       "      <th>path</th>\n",
       "      <th>target</th>\n",
       "    </tr>\n",
       "  </thead>\n",
       "  <tbody>\n",
       "    <tr>\n",
       "      <th>0</th>\n",
       "      <td>8975</td>\n",
       "      <td>/home/jupyter/kaggle/input/breast-histopatholo...</td>\n",
       "      <td>0</td>\n",
       "    </tr>\n",
       "    <tr>\n",
       "      <th>1</th>\n",
       "      <td>8975</td>\n",
       "      <td>/home/jupyter/kaggle/input/breast-histopatholo...</td>\n",
       "      <td>0</td>\n",
       "    </tr>\n",
       "    <tr>\n",
       "      <th>2</th>\n",
       "      <td>8975</td>\n",
       "      <td>/home/jupyter/kaggle/input/breast-histopatholo...</td>\n",
       "      <td>0</td>\n",
       "    </tr>\n",
       "    <tr>\n",
       "      <th>3</th>\n",
       "      <td>8975</td>\n",
       "      <td>/home/jupyter/kaggle/input/breast-histopatholo...</td>\n",
       "      <td>0</td>\n",
       "    </tr>\n",
       "    <tr>\n",
       "      <th>4</th>\n",
       "      <td>8975</td>\n",
       "      <td>/home/jupyter/kaggle/input/breast-histopatholo...</td>\n",
       "      <td>0</td>\n",
       "    </tr>\n",
       "  </tbody>\n",
       "</table>\n",
       "</div>"
      ],
      "text/plain": [
       "  patient_id                                               path  target\n",
       "0       8975  /home/jupyter/kaggle/input/breast-histopatholo...       0\n",
       "1       8975  /home/jupyter/kaggle/input/breast-histopatholo...       0\n",
       "2       8975  /home/jupyter/kaggle/input/breast-histopatholo...       0\n",
       "3       8975  /home/jupyter/kaggle/input/breast-histopatholo...       0\n",
       "4       8975  /home/jupyter/kaggle/input/breast-histopatholo...       0"
      ]
     },
     "execution_count": 5,
     "metadata": {},
     "output_type": "execute_result"
    }
   ],
   "source": [
    "data = pd.DataFrame(index=np.arange(0, total_images), columns=[\"patient_id\", \"path\", \"target\"])\n",
    "\n",
    "k = 0\n",
    "for n in range(len(patient)):\n",
    "    patient_id = patient[n]\n",
    "    patient_path = base_path + patient_id \n",
    "    for c in [0,1]:\n",
    "        class_path = patient_path + \"/\" + str(c) + \"/\"\n",
    "        subfiles = listdir(class_path)\n",
    "        for m in range(len(subfiles)):\n",
    "            image_path = subfiles[m]\n",
    "            data.iloc[k][\"path\"] = class_path + image_path\n",
    "            data.iloc[k][\"target\"] = c\n",
    "            data.iloc[k][\"patient_id\"] = patient_id\n",
    "            k += 1  \n",
    "\n",
    "data.target = data.target.astype(np.int64)\n",
    "data.head()"
   ]
  },
  {
   "cell_type": "markdown",
   "id": "d67ee564-8e68-4057-9c58-c370346381e5",
   "metadata": {},
   "source": [
    "The whole breast tissue is cut to 50*50 pixels photos. So we need to use coordinates to reconstruct the whole tissue of the patient.\n",
    "The coordinate X and Y are stored in the class_path, so we can split the path, and store them in the dataframe."
   ]
  },
  {
   "cell_type": "code",
   "execution_count": null,
   "id": "14c6e556-b0a2-4162-b8bd-dc6ab2726d37",
   "metadata": {},
   "outputs": [],
   "source": []
  },
  {
   "cell_type": "code",
   "execution_count": 6,
   "id": "bb51de02-cfaf-40c9-883a-6967a393b986",
   "metadata": {
    "tags": []
   },
   "outputs": [],
   "source": [
    "# def extract_coords(df):\n",
    "#     coord = df.path.str.rsplit(\"_\", n=4, expand=True)\n",
    "#     coord = coord.drop([0, 1, 4], axis=1)\n",
    "#     coord = coord.rename({2: \"x\", 3: \"y\"}, axis=1)\n",
    "#     coord.loc[:, \"x\"] = coord.loc[:,\"x\"].str.replace(\"x\", \"\", case=False).astype(np.int64)\n",
    "#     coord.loc[:, \"y\"] = coord.loc[:,\"y\"].str.replace(\"y\", \"\", case=False).astype(np.int64)\n",
    "#     df.loc[:, \"x\"] = coord.x.values\n",
    "#     df.loc[:, \"y\"] = coord.y.values\n",
    "#     return df"
   ]
  },
  {
   "cell_type": "markdown",
   "id": "3d35dd2a-6380-467c-ae53-c37c9745b9d3",
   "metadata": {},
   "source": [
    "Seperate the datasets to the train, dev and test part.\n",
    "Now it's 70 % train and 15 % for dev and test."
   ]
  },
  {
   "cell_type": "code",
   "execution_count": 7,
   "id": "2ded669c-8311-4139-9a4a-1693643faf32",
   "metadata": {
    "tags": []
   },
   "outputs": [
    {
     "name": "stdout",
     "output_type": "stream",
     "text": [
      "<class 'pandas.core.frame.DataFrame'>\n",
      "Index: 277524 entries, 0 to 277523\n",
      "Data columns (total 3 columns):\n",
      " #   Column      Non-Null Count   Dtype \n",
      "---  ------      --------------   ----- \n",
      " 0   patient_id  277524 non-null  object\n",
      " 1   path        277524 non-null  object\n",
      " 2   target      277524 non-null  object\n",
      "dtypes: object(3)\n",
      "memory usage: 8.5+ MB\n"
     ]
    }
   ],
   "source": [
    "data.loc[:, \"target\"] = data.target.astype(np.int64)\n",
    "data.info()\n",
    "patients = data.patient_id.unique()\n",
    "\n",
    "train_ids, sub_test_ids = train_test_split(patients, test_size=0.3, random_state=0)\n",
    "test_ids, dev_ids = train_test_split(sub_test_ids, test_size=0.5, random_state=0)"
   ]
  },
  {
   "cell_type": "code",
   "execution_count": 8,
   "id": "7f5e109c-c42b-4e47-8df4-a9947194e08c",
   "metadata": {
    "tags": []
   },
   "outputs": [
    {
     "data": {
      "text/html": [
       "<div>\n",
       "<style scoped>\n",
       "    .dataframe tbody tr th:only-of-type {\n",
       "        vertical-align: middle;\n",
       "    }\n",
       "\n",
       "    .dataframe tbody tr th {\n",
       "        vertical-align: top;\n",
       "    }\n",
       "\n",
       "    .dataframe thead th {\n",
       "        text-align: right;\n",
       "    }\n",
       "</style>\n",
       "<table border=\"1\" class=\"dataframe\">\n",
       "  <thead>\n",
       "    <tr style=\"text-align: right;\">\n",
       "      <th></th>\n",
       "      <th>patient_id</th>\n",
       "      <th>path</th>\n",
       "      <th>target</th>\n",
       "    </tr>\n",
       "  </thead>\n",
       "  <tbody>\n",
       "    <tr>\n",
       "      <th>0</th>\n",
       "      <td>8975</td>\n",
       "      <td>/home/jupyter/kaggle/input/breast-histopatholo...</td>\n",
       "      <td>0</td>\n",
       "    </tr>\n",
       "    <tr>\n",
       "      <th>1</th>\n",
       "      <td>8975</td>\n",
       "      <td>/home/jupyter/kaggle/input/breast-histopatholo...</td>\n",
       "      <td>0</td>\n",
       "    </tr>\n",
       "    <tr>\n",
       "      <th>2</th>\n",
       "      <td>8975</td>\n",
       "      <td>/home/jupyter/kaggle/input/breast-histopatholo...</td>\n",
       "      <td>0</td>\n",
       "    </tr>\n",
       "    <tr>\n",
       "      <th>3</th>\n",
       "      <td>8975</td>\n",
       "      <td>/home/jupyter/kaggle/input/breast-histopatholo...</td>\n",
       "      <td>0</td>\n",
       "    </tr>\n",
       "    <tr>\n",
       "      <th>4</th>\n",
       "      <td>8975</td>\n",
       "      <td>/home/jupyter/kaggle/input/breast-histopatholo...</td>\n",
       "      <td>0</td>\n",
       "    </tr>\n",
       "    <tr>\n",
       "      <th>...</th>\n",
       "      <td>...</td>\n",
       "      <td>...</td>\n",
       "      <td>...</td>\n",
       "    </tr>\n",
       "    <tr>\n",
       "      <th>277519</th>\n",
       "      <td>12909</td>\n",
       "      <td>/home/jupyter/kaggle/input/breast-histopatholo...</td>\n",
       "      <td>1</td>\n",
       "    </tr>\n",
       "    <tr>\n",
       "      <th>277520</th>\n",
       "      <td>12909</td>\n",
       "      <td>/home/jupyter/kaggle/input/breast-histopatholo...</td>\n",
       "      <td>1</td>\n",
       "    </tr>\n",
       "    <tr>\n",
       "      <th>277521</th>\n",
       "      <td>12909</td>\n",
       "      <td>/home/jupyter/kaggle/input/breast-histopatholo...</td>\n",
       "      <td>1</td>\n",
       "    </tr>\n",
       "    <tr>\n",
       "      <th>277522</th>\n",
       "      <td>12909</td>\n",
       "      <td>/home/jupyter/kaggle/input/breast-histopatholo...</td>\n",
       "      <td>1</td>\n",
       "    </tr>\n",
       "    <tr>\n",
       "      <th>277523</th>\n",
       "      <td>12909</td>\n",
       "      <td>/home/jupyter/kaggle/input/breast-histopatholo...</td>\n",
       "      <td>1</td>\n",
       "    </tr>\n",
       "  </tbody>\n",
       "</table>\n",
       "<p>191698 rows × 3 columns</p>\n",
       "</div>"
      ],
      "text/plain": [
       "       patient_id                                               path target\n",
       "0            8975  /home/jupyter/kaggle/input/breast-histopatholo...      0\n",
       "1            8975  /home/jupyter/kaggle/input/breast-histopatholo...      0\n",
       "2            8975  /home/jupyter/kaggle/input/breast-histopatholo...      0\n",
       "3            8975  /home/jupyter/kaggle/input/breast-histopatholo...      0\n",
       "4            8975  /home/jupyter/kaggle/input/breast-histopatholo...      0\n",
       "...           ...                                                ...    ...\n",
       "277519      12909  /home/jupyter/kaggle/input/breast-histopatholo...      1\n",
       "277520      12909  /home/jupyter/kaggle/input/breast-histopatholo...      1\n",
       "277521      12909  /home/jupyter/kaggle/input/breast-histopatholo...      1\n",
       "277522      12909  /home/jupyter/kaggle/input/breast-histopatholo...      1\n",
       "277523      12909  /home/jupyter/kaggle/input/breast-histopatholo...      1\n",
       "\n",
       "[191698 rows x 3 columns]"
      ]
     },
     "execution_count": 8,
     "metadata": {},
     "output_type": "execute_result"
    }
   ],
   "source": [
    "train_df = data.loc[data.patient_id.isin(train_ids),:].copy()\n",
    "test_df = data.loc[data.patient_id.isin(test_ids),:].copy()\n",
    "dev_df = data.loc[data.patient_id.isin(dev_ids),:].copy()\n",
    "\n",
    "# train_df = extract_coords(train_df)\n",
    "# test_df = extract_coords(test_df)\n",
    "# dev_df = extract_coords(dev_df)\n",
    "train_df"
   ]
  },
  {
   "cell_type": "code",
   "execution_count": null,
   "id": "6c76e599-6157-441a-bc5b-821fa5d134ab",
   "metadata": {
    "tags": []
   },
   "outputs": [],
   "source": []
  },
  {
   "cell_type": "code",
   "execution_count": 9,
   "id": "95d57031-76b7-493d-9757-b468b48af669",
   "metadata": {},
   "outputs": [],
   "source": [
    "class BreastCancerDataset(Dataset):\n",
    "    \n",
    "    def __init__(self, df, transform=None):\n",
    "        \"\"\"\n",
    "        Args:\n",
    "            states (dataframe): whole dataset information\n",
    "            transform (callable, optional): transformation of the image\n",
    "        \"\"\"\n",
    "        self.states = df\n",
    "        self.transform=transform\n",
    "      \n",
    "    def __len__(self):\n",
    "        return len(self.states)\n",
    "        \n",
    "    def __getitem__(self, idx):\n",
    "        image_path = self.states.path.values[idx] \n",
    "        image = Image.open(image_path)\n",
    "        image = image.convert('RGB')\n",
    "        \n",
    "        if self.transform:\n",
    "            image = self.transform(image)\n",
    "        \n",
    "        target = np.int64(self.states.target.values[idx])\n",
    "            \n",
    "        return {'image': image,\n",
    "                'label': target}"
   ]
  },
  {
   "cell_type": "code",
   "execution_count": 10,
   "id": "6bda0717-cd53-478a-8142-bd404feaafe8",
   "metadata": {
    "tags": []
   },
   "outputs": [],
   "source": [
    "basic_transform = transforms.Compose([\n",
    "    transforms.Resize((50, 50)),\n",
    "    transforms.ToTensor(),\n",
    "    transforms.Normalize(mean=[0.485, 0.456, 0.406], std=[0.229, 0.224, 0.225])\n",
    "])\n",
    "\n",
    "train_dataset = BreastCancerDataset(train_df,transform=basic_transform)\n",
    "dev_dataset = BreastCancerDataset(dev_df, transform=basic_transform)\n",
    "test_dataset = BreastCancerDataset(test_df, transform=basic_transform)\n",
    "# i=train_dataset.__getitem__(10253)\n",
    "# image=i['image']\n",
    "# i\n"
   ]
  }
 ],
 "metadata": {
  "environment": {
   "kernel": "python3",
   "name": "tf2-cpu.2-11.m113",
   "type": "gcloud",
   "uri": "gcr.io/deeplearning-platform-release/tf2-cpu.2-11:m113"
  },
  "kernelspec": {
   "display_name": "Python 3",
   "language": "python",
   "name": "python3"
  },
  "language_info": {
   "codemirror_mode": {
    "name": "ipython",
    "version": 3
   },
   "file_extension": ".py",
   "mimetype": "text/x-python",
   "name": "python",
   "nbconvert_exporter": "python",
   "pygments_lexer": "ipython3",
   "version": "3.10.13"
  }
 },
 "nbformat": 4,
 "nbformat_minor": 5
}
